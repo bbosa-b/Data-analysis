{
 "cells": [
  {
   "cell_type": "code",
   "execution_count": 131,
   "metadata": {},
   "outputs": [],
   "source": [
    "#importing libraries\n",
    "import pandas as pd\n",
    "import numpy as np\n",
    "import matplotlib.pyplot as plt\n",
    "import seaborn as sns\n",
    "from datetime import datetime\n",
    "import matplotlib.ticker as ticker\n",
    "sns.set(palette = \"dark\")\n",
    "import warnings\n",
    "warnings.filterwarnings(\"ignore\")"
   ]
  },
  {
   "cell_type": "code",
   "execution_count": 132,
   "metadata": {},
   "outputs": [],
   "source": [
    "#IMPORTING DATASETS\n",
    "orders=pd.read_excel('orders_merged.xlsx')\n",
    "sellers=pd.read_csv('olist_sellers_dataset.csv')\n",
    "cust=pd.read_csv('olist_customers_dataset.csv')\n",
    "geo=pd.read_csv('olist_geolocation_dataset.csv')\n",
    "reviews=pd.read_csv('olist_order_reviews_dataset.csv')\n",
    "items=pd.read_excel('merged_items.xlsx')\n",
    "pay=pd.read_csv('olist_order_payments_dataset.csv')\n",
    "it=pd.read_csv('olist_order_items_dataset.csv')"
   ]
  },
  {
   "cell_type": "code",
   "execution_count": 133,
   "metadata": {},
   "outputs": [],
   "source": [
    "#merging sellers dataset with ratings \n",
    "merged_sellers=pd.merge(sellers, items, on='seller_id', how = 'left')\n",
    "merged_s=merged_sellers[['seller_id', 'seller_zip_code_prefix', 'seller_city', 'seller_state',\n",
    "       'product_id', 'shipping_limit_date', 'order_id',\n",
    "       'price','olist_products_dataset.product_category_name',\n",
    "       'product_category_name_english']]\n",
    "\n",
    "merg_sell=pd.merge(merged_s, reviews, on='order_id', how = 'left')"
   ]
  },
  {
   "cell_type": "code",
   "execution_count": 134,
   "metadata": {},
   "outputs": [
    {
     "data": {
      "text/plain": [
       "seller_id                                           0\n",
       "seller_zip_code_prefix                              0\n",
       "seller_city                                         0\n",
       "seller_state                                        0\n",
       "product_id                                          0\n",
       "shipping_limit_date                                 0\n",
       "order_id                                            0\n",
       "price                                               0\n",
       "olist_products_dataset.product_category_name     1612\n",
       "product_category_name_english                    1636\n",
       "review_id                                           0\n",
       "review_score                                        0\n",
       "review_comment_title                            99700\n",
       "review_comment_message                          64730\n",
       "review_creation_date                                0\n",
       "review_answer_timestamp                             0\n",
       "dtype: int64"
      ]
     },
     "execution_count": 134,
     "metadata": {},
     "output_type": "execute_result"
    }
   ],
   "source": [
    "merg_sell.isna().sum()"
   ]
  },
  {
   "cell_type": "code",
   "execution_count": 135,
   "metadata": {},
   "outputs": [],
   "source": [
    "#dropping and renaming columns in the merged dataset\n",
    "sell_rating = merg_sell.drop([ 'review_comment_title', 'review_id', 'review_comment_message', 'review_creation_date', 'product_id','review_answer_timestamp'], axis=1)\n",
    "sell_rating =sell_rating.rename(columns={'product_category_name_english': 'product_eng','seller_zip_code_prefix':'zip_code', 'olist_products_dataset.product_category_name': 'product_por',})"
   ]
  },
  {
   "cell_type": "code",
   "execution_count": 136,
   "metadata": {},
   "outputs": [
    {
     "data": {
      "text/html": [
       "<div>\n",
       "<style scoped>\n",
       "    .dataframe tbody tr th:only-of-type {\n",
       "        vertical-align: middle;\n",
       "    }\n",
       "\n",
       "    .dataframe tbody tr th {\n",
       "        vertical-align: top;\n",
       "    }\n",
       "\n",
       "    .dataframe thead th {\n",
       "        text-align: right;\n",
       "    }\n",
       "</style>\n",
       "<table border=\"1\" class=\"dataframe\">\n",
       "  <thead>\n",
       "    <tr style=\"text-align: right;\">\n",
       "      <th></th>\n",
       "      <th>seller_id</th>\n",
       "      <th>zip_code</th>\n",
       "      <th>seller_city</th>\n",
       "      <th>seller_state</th>\n",
       "      <th>shipping_limit_date</th>\n",
       "      <th>order_id</th>\n",
       "      <th>price</th>\n",
       "      <th>product_por</th>\n",
       "      <th>product_eng</th>\n",
       "      <th>review_score</th>\n",
       "    </tr>\n",
       "  </thead>\n",
       "  <tbody>\n",
       "    <tr>\n",
       "      <th>0</th>\n",
       "      <td>3442f8959a84dea7ee197c632cb2df15</td>\n",
       "      <td>13023</td>\n",
       "      <td>campinas</td>\n",
       "      <td>SP</td>\n",
       "      <td>2017-08-25 20:50:19</td>\n",
       "      <td>4a90af3e85dd563884e2afeab1091394</td>\n",
       "      <td>106.20</td>\n",
       "      <td>esporte_lazer</td>\n",
       "      <td>sports_leisure</td>\n",
       "      <td>5</td>\n",
       "    </tr>\n",
       "    <tr>\n",
       "      <th>1</th>\n",
       "      <td>3442f8959a84dea7ee197c632cb2df15</td>\n",
       "      <td>13023</td>\n",
       "      <td>campinas</td>\n",
       "      <td>SP</td>\n",
       "      <td>2017-05-11 16:25:11</td>\n",
       "      <td>6d953888a914b67350d5bc4d48f2acab</td>\n",
       "      <td>101.70</td>\n",
       "      <td>esporte_lazer</td>\n",
       "      <td>sports_leisure</td>\n",
       "      <td>1</td>\n",
       "    </tr>\n",
       "    <tr>\n",
       "      <th>2</th>\n",
       "      <td>3442f8959a84dea7ee197c632cb2df15</td>\n",
       "      <td>13023</td>\n",
       "      <td>campinas</td>\n",
       "      <td>SP</td>\n",
       "      <td>2017-09-05 12:50:19</td>\n",
       "      <td>bc8a5de6abf5b14f98a6135a7fb46731</td>\n",
       "      <td>10.80</td>\n",
       "      <td>esporte_lazer</td>\n",
       "      <td>sports_leisure</td>\n",
       "      <td>3</td>\n",
       "    </tr>\n",
       "    <tr>\n",
       "      <th>3</th>\n",
       "      <td>d1b65fc7debc3361ea86b5f14c68d2e2</td>\n",
       "      <td>13844</td>\n",
       "      <td>mogi guacu</td>\n",
       "      <td>SP</td>\n",
       "      <td>2017-10-06 02:14:42</td>\n",
       "      <td>0504447548229e075dea8441b37b1e2a</td>\n",
       "      <td>199.90</td>\n",
       "      <td>papelaria</td>\n",
       "      <td>stationery</td>\n",
       "      <td>5</td>\n",
       "    </tr>\n",
       "    <tr>\n",
       "      <th>4</th>\n",
       "      <td>d1b65fc7debc3361ea86b5f14c68d2e2</td>\n",
       "      <td>13844</td>\n",
       "      <td>mogi guacu</td>\n",
       "      <td>SP</td>\n",
       "      <td>2017-12-07 14:13:33</td>\n",
       "      <td>16fd9b360cbadca08b1026c8532820f5</td>\n",
       "      <td>199.99</td>\n",
       "      <td>papelaria</td>\n",
       "      <td>stationery</td>\n",
       "      <td>5</td>\n",
       "    </tr>\n",
       "  </tbody>\n",
       "</table>\n",
       "</div>"
      ],
      "text/plain": [
       "                          seller_id  zip_code seller_city seller_state  \\\n",
       "0  3442f8959a84dea7ee197c632cb2df15     13023    campinas           SP   \n",
       "1  3442f8959a84dea7ee197c632cb2df15     13023    campinas           SP   \n",
       "2  3442f8959a84dea7ee197c632cb2df15     13023    campinas           SP   \n",
       "3  d1b65fc7debc3361ea86b5f14c68d2e2     13844  mogi guacu           SP   \n",
       "4  d1b65fc7debc3361ea86b5f14c68d2e2     13844  mogi guacu           SP   \n",
       "\n",
       "  shipping_limit_date                          order_id   price  \\\n",
       "0 2017-08-25 20:50:19  4a90af3e85dd563884e2afeab1091394  106.20   \n",
       "1 2017-05-11 16:25:11  6d953888a914b67350d5bc4d48f2acab  101.70   \n",
       "2 2017-09-05 12:50:19  bc8a5de6abf5b14f98a6135a7fb46731   10.80   \n",
       "3 2017-10-06 02:14:42  0504447548229e075dea8441b37b1e2a  199.90   \n",
       "4 2017-12-07 14:13:33  16fd9b360cbadca08b1026c8532820f5  199.99   \n",
       "\n",
       "     product_por     product_eng  review_score  \n",
       "0  esporte_lazer  sports_leisure             5  \n",
       "1  esporte_lazer  sports_leisure             1  \n",
       "2  esporte_lazer  sports_leisure             3  \n",
       "3      papelaria      stationery             5  \n",
       "4      papelaria      stationery             5  "
      ]
     },
     "execution_count": 136,
     "metadata": {},
     "output_type": "execute_result"
    }
   ],
   "source": [
    "sell_rating.head()"
   ]
  },
  {
   "cell_type": "code",
   "execution_count": 137,
   "metadata": {},
   "outputs": [
    {
     "data": {
      "text/plain": [
       "product_eng            1636\n",
       "product_por            1612\n",
       "seller_id                 0\n",
       "zip_code                  0\n",
       "seller_city               0\n",
       "seller_state              0\n",
       "shipping_limit_date       0\n",
       "order_id                  0\n",
       "price                     0\n",
       "review_score              0\n",
       "dtype: int64"
      ]
     },
     "execution_count": 137,
     "metadata": {},
     "output_type": "execute_result"
    }
   ],
   "source": [
    "sell_rating.isna().sum().sort_values(ascending=False)"
   ]
  },
  {
   "cell_type": "code",
   "execution_count": 138,
   "metadata": {},
   "outputs": [
    {
     "data": {
      "text/plain": [
       "array(['esporte_lazer', 'papelaria', 'fashion_bolsas_e_acessorios',\n",
       "       'malas_acessorios', 'bebes', 'eletronicos', 'alimentos',\n",
       "       'informatica_acessorios', 'brinquedos', 'telefonia', 'cool_stuff',\n",
       "       'consoles_games', 'casa_conforto', 'audio', 'pet_shop',\n",
       "       'instrumentos_musicais',\n",
       "       'moveis_cozinha_area_de_servico_jantar_e_jardim', 'beleza_saude',\n",
       "       'cama_mesa_banho', 'moveis_decoracao', 'moveis_escritorio',\n",
       "       'ferramentas_jardim', 'automotivo', 'climatizacao', nan,\n",
       "       'utilidades_domesticas', 'relogios_presentes', 'perfumaria',\n",
       "       'moveis_sala', 'artigos_de_natal', 'cine_foto', 'telefonia_fixa',\n",
       "       'fashion_underwear_e_moda_praia',\n",
       "       'construcao_ferramentas_construcao', 'artes', 'eletroportateis',\n",
       "       'sinalizacao_e_seguranca', 'livros_interesse_geral',\n",
       "       'livros_tecnicos', 'pc_gamer', 'construcao_ferramentas_seguranca',\n",
       "       'bebidas', 'eletrodomesticos', 'casa_construcao',\n",
       "       'artes_e_artesanato', 'fashion_esporte', 'market_place',\n",
       "       'agro_industria_e_comercio',\n",
       "       'portateis_cozinha_e_preparadores_de_alimentos',\n",
       "       'eletrodomesticos_2', 'moveis_quarto',\n",
       "       'construcao_ferramentas_jardim', 'flores', 'fashion_calcados',\n",
       "       'portateis_casa_forno_e_cafe', 'alimentos_bebidas',\n",
       "       'fraldas_higiene', 'fashion_roupa_masculina',\n",
       "       'fashion_roupa_feminina', 'construcao_ferramentas_iluminacao',\n",
       "       'artigos_de_festas', 'industria_comercio_e_negocios',\n",
       "       'construcao_ferramentas_ferramentas', 'la_cuisine', 'dvds_blu_ray',\n",
       "       'musica', 'moveis_colchao_e_estofado',\n",
       "       'fashion_roupa_infanto_juvenil', 'pcs', 'livros_importados',\n",
       "       'tablets_impressao_imagem', 'cds_dvds_musicais',\n",
       "       'seguros_e_servicos', 'casa_conforto_2'], dtype=object)"
      ]
     },
     "execution_count": 138,
     "metadata": {},
     "output_type": "execute_result"
    }
   ],
   "source": [
    "sell_rating['product_por'].unique()\n"
   ]
  },
  {
   "cell_type": "code",
   "execution_count": 139,
   "metadata": {},
   "outputs": [
    {
     "data": {
      "text/html": [
       "<div>\n",
       "<style scoped>\n",
       "    .dataframe tbody tr th:only-of-type {\n",
       "        vertical-align: middle;\n",
       "    }\n",
       "\n",
       "    .dataframe tbody tr th {\n",
       "        vertical-align: top;\n",
       "    }\n",
       "\n",
       "    .dataframe thead th {\n",
       "        text-align: right;\n",
       "    }\n",
       "</style>\n",
       "<table border=\"1\" class=\"dataframe\">\n",
       "  <thead>\n",
       "    <tr style=\"text-align: right;\">\n",
       "      <th></th>\n",
       "      <th>seller_id</th>\n",
       "      <th>zip_code</th>\n",
       "      <th>seller_city</th>\n",
       "      <th>seller_state</th>\n",
       "      <th>shipping_limit_date</th>\n",
       "      <th>order_id</th>\n",
       "      <th>price</th>\n",
       "      <th>product_por</th>\n",
       "      <th>product_eng</th>\n",
       "      <th>review_score</th>\n",
       "    </tr>\n",
       "  </thead>\n",
       "  <tbody>\n",
       "    <tr>\n",
       "      <th>3073</th>\n",
       "      <td>3296662b1331dea51e744505065ae889</td>\n",
       "      <td>15805</td>\n",
       "      <td>catanduva</td>\n",
       "      <td>SP</td>\n",
       "      <td>2018-08-30 13:15:50</td>\n",
       "      <td>a73d469a8747dea1740e9545d1051002</td>\n",
       "      <td>517.80</td>\n",
       "      <td>portateis_cozinha_e_preparadores_de_alimentos</td>\n",
       "      <td>NaN</td>\n",
       "      <td>5</td>\n",
       "    </tr>\n",
       "    <tr>\n",
       "      <th>21372</th>\n",
       "      <td>ed8cb7b190ceb6067227478e48cf8dde</td>\n",
       "      <td>11015</td>\n",
       "      <td>santos</td>\n",
       "      <td>SP</td>\n",
       "      <td>2018-08-02 13:30:55</td>\n",
       "      <td>53fa17c349c4b3dcbbadd8aad2eb559b</td>\n",
       "      <td>21.52</td>\n",
       "      <td>portateis_cozinha_e_preparadores_de_alimentos</td>\n",
       "      <td>NaN</td>\n",
       "      <td>3</td>\n",
       "    </tr>\n",
       "    <tr>\n",
       "      <th>21373</th>\n",
       "      <td>ed8cb7b190ceb6067227478e48cf8dde</td>\n",
       "      <td>11015</td>\n",
       "      <td>santos</td>\n",
       "      <td>SP</td>\n",
       "      <td>2018-08-02 17:15:17</td>\n",
       "      <td>67f38c0b9d8a42541af92de7b6a19ea5</td>\n",
       "      <td>21.52</td>\n",
       "      <td>portateis_cozinha_e_preparadores_de_alimentos</td>\n",
       "      <td>NaN</td>\n",
       "      <td>4</td>\n",
       "    </tr>\n",
       "    <tr>\n",
       "      <th>21374</th>\n",
       "      <td>ed8cb7b190ceb6067227478e48cf8dde</td>\n",
       "      <td>11015</td>\n",
       "      <td>santos</td>\n",
       "      <td>SP</td>\n",
       "      <td>2018-07-26 01:50:13</td>\n",
       "      <td>b1829b9fc61d2f28d8668cd5bde29e3f</td>\n",
       "      <td>17.42</td>\n",
       "      <td>portateis_cozinha_e_preparadores_de_alimentos</td>\n",
       "      <td>NaN</td>\n",
       "      <td>2</td>\n",
       "    </tr>\n",
       "    <tr>\n",
       "      <th>21375</th>\n",
       "      <td>ed8cb7b190ceb6067227478e48cf8dde</td>\n",
       "      <td>11015</td>\n",
       "      <td>santos</td>\n",
       "      <td>SP</td>\n",
       "      <td>2018-07-31 02:50:18</td>\n",
       "      <td>b35a771164a9defa3b4767f1b66918b1</td>\n",
       "      <td>21.52</td>\n",
       "      <td>portateis_cozinha_e_preparadores_de_alimentos</td>\n",
       "      <td>NaN</td>\n",
       "      <td>3</td>\n",
       "    </tr>\n",
       "    <tr>\n",
       "      <th>21376</th>\n",
       "      <td>ed8cb7b190ceb6067227478e48cf8dde</td>\n",
       "      <td>11015</td>\n",
       "      <td>santos</td>\n",
       "      <td>SP</td>\n",
       "      <td>2018-07-27 09:19:02</td>\n",
       "      <td>c67c6e7178cff9848b2d6556d1670fd8</td>\n",
       "      <td>20.09</td>\n",
       "      <td>portateis_cozinha_e_preparadores_de_alimentos</td>\n",
       "      <td>NaN</td>\n",
       "      <td>5</td>\n",
       "    </tr>\n",
       "    <tr>\n",
       "      <th>21377</th>\n",
       "      <td>ed8cb7b190ceb6067227478e48cf8dde</td>\n",
       "      <td>11015</td>\n",
       "      <td>santos</td>\n",
       "      <td>SP</td>\n",
       "      <td>2018-08-02 03:35:16</td>\n",
       "      <td>d94600e5b855ffe8db3b9bc06e21b1bd</td>\n",
       "      <td>17.53</td>\n",
       "      <td>portateis_cozinha_e_preparadores_de_alimentos</td>\n",
       "      <td>NaN</td>\n",
       "      <td>1</td>\n",
       "    </tr>\n",
       "    <tr>\n",
       "      <th>21378</th>\n",
       "      <td>ed8cb7b190ceb6067227478e48cf8dde</td>\n",
       "      <td>11015</td>\n",
       "      <td>santos</td>\n",
       "      <td>SP</td>\n",
       "      <td>2018-08-02 03:35:16</td>\n",
       "      <td>d94600e5b855ffe8db3b9bc06e21b1bd</td>\n",
       "      <td>17.53</td>\n",
       "      <td>portateis_cozinha_e_preparadores_de_alimentos</td>\n",
       "      <td>NaN</td>\n",
       "      <td>1</td>\n",
       "    </tr>\n",
       "    <tr>\n",
       "      <th>29229</th>\n",
       "      <td>ba90964cff9b9e0e6f32b23b82465f7b</td>\n",
       "      <td>7140</td>\n",
       "      <td>guarulhos</td>\n",
       "      <td>SP</td>\n",
       "      <td>2018-08-08 09:35:13</td>\n",
       "      <td>2d3bc1f6ed458a137c51adc3cab7a488</td>\n",
       "      <td>1099.00</td>\n",
       "      <td>portateis_cozinha_e_preparadores_de_alimentos</td>\n",
       "      <td>NaN</td>\n",
       "      <td>3</td>\n",
       "    </tr>\n",
       "    <tr>\n",
       "      <th>29230</th>\n",
       "      <td>ba90964cff9b9e0e6f32b23b82465f7b</td>\n",
       "      <td>7140</td>\n",
       "      <td>guarulhos</td>\n",
       "      <td>SP</td>\n",
       "      <td>2018-05-14 17:30:44</td>\n",
       "      <td>7faf8b9448b66f4a3ac98a312b3e7609</td>\n",
       "      <td>979.00</td>\n",
       "      <td>portateis_cozinha_e_preparadores_de_alimentos</td>\n",
       "      <td>NaN</td>\n",
       "      <td>5</td>\n",
       "    </tr>\n",
       "    <tr>\n",
       "      <th>29231</th>\n",
       "      <td>ba90964cff9b9e0e6f32b23b82465f7b</td>\n",
       "      <td>7140</td>\n",
       "      <td>guarulhos</td>\n",
       "      <td>SP</td>\n",
       "      <td>2018-05-15 10:54:54</td>\n",
       "      <td>a653bb2e2418fd13d746e3639879aa83</td>\n",
       "      <td>979.00</td>\n",
       "      <td>portateis_cozinha_e_preparadores_de_alimentos</td>\n",
       "      <td>NaN</td>\n",
       "      <td>5</td>\n",
       "    </tr>\n",
       "    <tr>\n",
       "      <th>70915</th>\n",
       "      <td>7aa538dd6e114e503a2e6154ea352253</td>\n",
       "      <td>15807</td>\n",
       "      <td>catanduva</td>\n",
       "      <td>SP</td>\n",
       "      <td>2018-08-23 04:30:19</td>\n",
       "      <td>0745fd0c5e5bd55f752798a152b1d04b</td>\n",
       "      <td>83.90</td>\n",
       "      <td>portateis_cozinha_e_preparadores_de_alimentos</td>\n",
       "      <td>NaN</td>\n",
       "      <td>5</td>\n",
       "    </tr>\n",
       "    <tr>\n",
       "      <th>70916</th>\n",
       "      <td>7aa538dd6e114e503a2e6154ea352253</td>\n",
       "      <td>15807</td>\n",
       "      <td>catanduva</td>\n",
       "      <td>SP</td>\n",
       "      <td>2018-08-16 15:10:27</td>\n",
       "      <td>8dbdb81783a3c754dc9441826510a36a</td>\n",
       "      <td>102.90</td>\n",
       "      <td>portateis_cozinha_e_preparadores_de_alimentos</td>\n",
       "      <td>NaN</td>\n",
       "      <td>4</td>\n",
       "    </tr>\n",
       "    <tr>\n",
       "      <th>102696</th>\n",
       "      <td>ea1776927851da2532aa70d6a32c095a</td>\n",
       "      <td>8223</td>\n",
       "      <td>sao paulo</td>\n",
       "      <td>SP</td>\n",
       "      <td>2018-08-09 22:35:17</td>\n",
       "      <td>1d911134e95ec6f299e80fe19b5b88c5</td>\n",
       "      <td>34.90</td>\n",
       "      <td>portateis_cozinha_e_preparadores_de_alimentos</td>\n",
       "      <td>NaN</td>\n",
       "      <td>1</td>\n",
       "    </tr>\n",
       "    <tr>\n",
       "      <th>102697</th>\n",
       "      <td>ea1776927851da2532aa70d6a32c095a</td>\n",
       "      <td>8223</td>\n",
       "      <td>sao paulo</td>\n",
       "      <td>SP</td>\n",
       "      <td>2018-07-26 18:05:18</td>\n",
       "      <td>542dd8c7a80f7006b56c9cbb95e6433b</td>\n",
       "      <td>34.90</td>\n",
       "      <td>portateis_cozinha_e_preparadores_de_alimentos</td>\n",
       "      <td>NaN</td>\n",
       "      <td>2</td>\n",
       "    </tr>\n",
       "  </tbody>\n",
       "</table>\n",
       "</div>"
      ],
      "text/plain": [
       "                               seller_id  zip_code seller_city seller_state  \\\n",
       "3073    3296662b1331dea51e744505065ae889     15805   catanduva           SP   \n",
       "21372   ed8cb7b190ceb6067227478e48cf8dde     11015      santos           SP   \n",
       "21373   ed8cb7b190ceb6067227478e48cf8dde     11015      santos           SP   \n",
       "21374   ed8cb7b190ceb6067227478e48cf8dde     11015      santos           SP   \n",
       "21375   ed8cb7b190ceb6067227478e48cf8dde     11015      santos           SP   \n",
       "21376   ed8cb7b190ceb6067227478e48cf8dde     11015      santos           SP   \n",
       "21377   ed8cb7b190ceb6067227478e48cf8dde     11015      santos           SP   \n",
       "21378   ed8cb7b190ceb6067227478e48cf8dde     11015      santos           SP   \n",
       "29229   ba90964cff9b9e0e6f32b23b82465f7b      7140   guarulhos           SP   \n",
       "29230   ba90964cff9b9e0e6f32b23b82465f7b      7140   guarulhos           SP   \n",
       "29231   ba90964cff9b9e0e6f32b23b82465f7b      7140   guarulhos           SP   \n",
       "70915   7aa538dd6e114e503a2e6154ea352253     15807   catanduva           SP   \n",
       "70916   7aa538dd6e114e503a2e6154ea352253     15807   catanduva           SP   \n",
       "102696  ea1776927851da2532aa70d6a32c095a      8223   sao paulo           SP   \n",
       "102697  ea1776927851da2532aa70d6a32c095a      8223   sao paulo           SP   \n",
       "\n",
       "       shipping_limit_date                          order_id    price  \\\n",
       "3073   2018-08-30 13:15:50  a73d469a8747dea1740e9545d1051002   517.80   \n",
       "21372  2018-08-02 13:30:55  53fa17c349c4b3dcbbadd8aad2eb559b    21.52   \n",
       "21373  2018-08-02 17:15:17  67f38c0b9d8a42541af92de7b6a19ea5    21.52   \n",
       "21374  2018-07-26 01:50:13  b1829b9fc61d2f28d8668cd5bde29e3f    17.42   \n",
       "21375  2018-07-31 02:50:18  b35a771164a9defa3b4767f1b66918b1    21.52   \n",
       "21376  2018-07-27 09:19:02  c67c6e7178cff9848b2d6556d1670fd8    20.09   \n",
       "21377  2018-08-02 03:35:16  d94600e5b855ffe8db3b9bc06e21b1bd    17.53   \n",
       "21378  2018-08-02 03:35:16  d94600e5b855ffe8db3b9bc06e21b1bd    17.53   \n",
       "29229  2018-08-08 09:35:13  2d3bc1f6ed458a137c51adc3cab7a488  1099.00   \n",
       "29230  2018-05-14 17:30:44  7faf8b9448b66f4a3ac98a312b3e7609   979.00   \n",
       "29231  2018-05-15 10:54:54  a653bb2e2418fd13d746e3639879aa83   979.00   \n",
       "70915  2018-08-23 04:30:19  0745fd0c5e5bd55f752798a152b1d04b    83.90   \n",
       "70916  2018-08-16 15:10:27  8dbdb81783a3c754dc9441826510a36a   102.90   \n",
       "102696 2018-08-09 22:35:17  1d911134e95ec6f299e80fe19b5b88c5    34.90   \n",
       "102697 2018-07-26 18:05:18  542dd8c7a80f7006b56c9cbb95e6433b    34.90   \n",
       "\n",
       "                                          product_por product_eng  \\\n",
       "3073    portateis_cozinha_e_preparadores_de_alimentos         NaN   \n",
       "21372   portateis_cozinha_e_preparadores_de_alimentos         NaN   \n",
       "21373   portateis_cozinha_e_preparadores_de_alimentos         NaN   \n",
       "21374   portateis_cozinha_e_preparadores_de_alimentos         NaN   \n",
       "21375   portateis_cozinha_e_preparadores_de_alimentos         NaN   \n",
       "21376   portateis_cozinha_e_preparadores_de_alimentos         NaN   \n",
       "21377   portateis_cozinha_e_preparadores_de_alimentos         NaN   \n",
       "21378   portateis_cozinha_e_preparadores_de_alimentos         NaN   \n",
       "29229   portateis_cozinha_e_preparadores_de_alimentos         NaN   \n",
       "29230   portateis_cozinha_e_preparadores_de_alimentos         NaN   \n",
       "29231   portateis_cozinha_e_preparadores_de_alimentos         NaN   \n",
       "70915   portateis_cozinha_e_preparadores_de_alimentos         NaN   \n",
       "70916   portateis_cozinha_e_preparadores_de_alimentos         NaN   \n",
       "102696  portateis_cozinha_e_preparadores_de_alimentos         NaN   \n",
       "102697  portateis_cozinha_e_preparadores_de_alimentos         NaN   \n",
       "\n",
       "        review_score  \n",
       "3073               5  \n",
       "21372              3  \n",
       "21373              4  \n",
       "21374              2  \n",
       "21375              3  \n",
       "21376              5  \n",
       "21377              1  \n",
       "21378              1  \n",
       "29229              3  \n",
       "29230              5  \n",
       "29231              5  \n",
       "70915              5  \n",
       "70916              4  \n",
       "102696             1  \n",
       "102697             2  "
      ]
     },
     "execution_count": 139,
     "metadata": {},
     "output_type": "execute_result"
    }
   ],
   "source": [
    "sell_rating[sell_rating['product_por'] == 'portateis_cozinha_e_preparadores_de_alimentos']"
   ]
  },
  {
   "cell_type": "code",
   "execution_count": 140,
   "metadata": {},
   "outputs": [],
   "source": [
    "#replacing some of thw missing values in english product names\n",
    "sell_rating.loc[sell_rating['product_por'] == 'portateis_cozinha_e_preparadores_de_alimentos', 'product_eng'] = sell_rating.loc[sell_rating['product_por'] == 'portateis_cozinha_e_preparadores_de_alimentos', 'product_eng'].fillna('portable kitchen_and_food_preparators')\n",
    "sell_rating.loc[sell_rating['product_por'] == 'pc_gamer', 'product_eng'] = sell_rating.loc[sell_rating['product_por'] == 'pc_gamer', 'product_eng'].fillna('pc_gamer')"
   ]
  },
  {
   "cell_type": "code",
   "execution_count": 141,
   "metadata": {},
   "outputs": [
    {
     "data": {
      "text/plain": [
       "product_por            1612\n",
       "product_eng            1612\n",
       "seller_id                 0\n",
       "zip_code                  0\n",
       "seller_city               0\n",
       "seller_state              0\n",
       "shipping_limit_date       0\n",
       "order_id                  0\n",
       "price                     0\n",
       "review_score              0\n",
       "dtype: int64"
      ]
     },
     "execution_count": 141,
     "metadata": {},
     "output_type": "execute_result"
    }
   ],
   "source": [
    "sell_rating.isna().sum().sort_values(ascending=False)"
   ]
  },
  {
   "cell_type": "code",
   "execution_count": 142,
   "metadata": {},
   "outputs": [],
   "source": [
    "sell_rating=sell_rating.fillna('Unknown')"
   ]
  },
  {
   "cell_type": "code",
   "execution_count": 143,
   "metadata": {},
   "outputs": [
    {
     "data": {
      "text/plain": [
       "seller_id              0\n",
       "zip_code               0\n",
       "seller_city            0\n",
       "seller_state           0\n",
       "shipping_limit_date    0\n",
       "order_id               0\n",
       "price                  0\n",
       "product_por            0\n",
       "product_eng            0\n",
       "review_score           0\n",
       "dtype: int64"
      ]
     },
     "execution_count": 143,
     "metadata": {},
     "output_type": "execute_result"
    }
   ],
   "source": [
    "sell_rating.isna().sum().sort_values(ascending=False)"
   ]
  },
  {
   "cell_type": "code",
   "execution_count": 144,
   "metadata": {},
   "outputs": [
    {
     "data": {
      "text/plain": [
       "order_delivered_customer_date                          3421\n",
       "product_category_name_english                          2567\n",
       "olist_products_dataset.product_category_name           2542\n",
       "order_delivered_carrier_date                           2086\n",
       "price                                                   833\n",
       "shipping_limit_date                                     833\n",
       "seller_id                                               833\n",
       "freight_value                                           833\n",
       "product_id                                              833\n",
       "order_approved_at                                       177\n",
       "payment_type                                              3\n",
       "payment_value                                             3\n",
       "customer_zip_code_prefix                                  0\n",
       "customer_state                                            0\n",
       "customer_city                                             0\n",
       "order_id                                                  0\n",
       "olist_order_reviews_dataset.review_answer_timestamp       0\n",
       "olist_order_reviews_dataset.review_score                  0\n",
       "customer_id                                               0\n",
       "order_estimated_delivery_date                             0\n",
       "order_purchase_timestamp                                  0\n",
       "order_status                                              0\n",
       "customer_unique_id                                        0\n",
       "dtype: int64"
      ]
     },
     "execution_count": 144,
     "metadata": {},
     "output_type": "execute_result"
    }
   ],
   "source": [
    "#cleaning orders dataset\n",
    "orders.isna().sum().sort_values(ascending=False)"
   ]
  },
  {
   "cell_type": "code",
   "execution_count": 164,
   "metadata": {},
   "outputs": [],
   "source": [
    "order = orders.drop(['seller_id','order_delivered_customer_date','order_approved_at','order_delivered_carrier_date'], axis=1)\n",
    "order =order.rename(columns={'product_category_name_english': 'product_eng','customer_zip_code_prefix':'zip_code', 'olist_products_dataset.product_category_name': 'product_por','olist_order_reviews_dataset.review_answer_timestamp':'review_date','olist_order_reviews_dataset.review_score':'review_score'})"
   ]
  },
  {
   "cell_type": "code",
   "execution_count": 165,
   "metadata": {},
   "outputs": [],
   "source": [
    "order.loc[order['product_por'] == 'portateis_cozinha_e_preparadores_de_alimentos', 'product_eng'] = order.loc[order['product_por'] == 'portateis_cozinha_e_preparadores_de_alimentos', 'product_eng'].fillna('portable kitchen_and_food_preparators')\n",
    "order.loc[order['product_por'] == 'pc_gamer', 'product_eng'] = order.loc[order['product_por'] == 'pc_gamer', 'product_eng'].fillna('pc_gamer')"
   ]
  },
  {
   "cell_type": "code",
   "execution_count": 166,
   "metadata": {},
   "outputs": [
    {
     "data": {
      "text/plain": [
       "product_eng                      2542\n",
       "product_por                      2542\n",
       "price                             833\n",
       "shipping_limit_date               833\n",
       "freight_value                     833\n",
       "product_id                        833\n",
       "payment_type                        3\n",
       "payment_value                       3\n",
       "review_date                         0\n",
       "customer_state                      0\n",
       "customer_city                       0\n",
       "zip_code                            0\n",
       "order_id                            0\n",
       "review_score                        0\n",
       "customer_id                         0\n",
       "order_estimated_delivery_date       0\n",
       "order_purchase_timestamp            0\n",
       "order_status                        0\n",
       "customer_unique_id                  0\n",
       "dtype: int64"
      ]
     },
     "execution_count": 166,
     "metadata": {},
     "output_type": "execute_result"
    }
   ],
   "source": [
    "order.isna().sum().sort_values(ascending=False)"
   ]
  },
  {
   "cell_type": "code",
   "execution_count": 168,
   "metadata": {},
   "outputs": [
    {
     "data": {
      "text/html": [
       "<div>\n",
       "<style scoped>\n",
       "    .dataframe tbody tr th:only-of-type {\n",
       "        vertical-align: middle;\n",
       "    }\n",
       "\n",
       "    .dataframe tbody tr th {\n",
       "        vertical-align: top;\n",
       "    }\n",
       "\n",
       "    .dataframe thead th {\n",
       "        text-align: right;\n",
       "    }\n",
       "</style>\n",
       "<table border=\"1\" class=\"dataframe\">\n",
       "  <thead>\n",
       "    <tr style=\"text-align: right;\">\n",
       "      <th></th>\n",
       "      <th>order_id</th>\n",
       "      <th>customer_id</th>\n",
       "      <th>order_status</th>\n",
       "      <th>order_purchase_timestamp</th>\n",
       "      <th>order_estimated_delivery_date</th>\n",
       "      <th>payment_type</th>\n",
       "      <th>payment_value</th>\n",
       "      <th>freight_value</th>\n",
       "      <th>product_por</th>\n",
       "      <th>product_eng</th>\n",
       "      <th>product_id</th>\n",
       "      <th>review_score</th>\n",
       "      <th>review_date</th>\n",
       "      <th>zip_code</th>\n",
       "      <th>customer_city</th>\n",
       "      <th>customer_state</th>\n",
       "      <th>shipping_limit_date</th>\n",
       "      <th>price</th>\n",
       "      <th>customer_unique_id</th>\n",
       "    </tr>\n",
       "  </thead>\n",
       "  <tbody>\n",
       "    <tr>\n",
       "      <th>115728</th>\n",
       "      <td>bfbd0f9bdef84302105ad712db648a6c</td>\n",
       "      <td>86dc2ffce2dfff336de2f386a786e574</td>\n",
       "      <td>delivered</td>\n",
       "      <td>2016-09-15 12:16:38</td>\n",
       "      <td>2016-10-04</td>\n",
       "      <td>NaN</td>\n",
       "      <td>NaN</td>\n",
       "      <td>2.83</td>\n",
       "      <td>beleza_saude</td>\n",
       "      <td>health_beauty</td>\n",
       "      <td>5a6b04657a4c5ee34285d1e4619a96b4</td>\n",
       "      <td>1</td>\n",
       "      <td>2016-10-07 18:32:28</td>\n",
       "      <td>14600</td>\n",
       "      <td>sao joaquim da barra</td>\n",
       "      <td>SP</td>\n",
       "      <td>2016-09-19 23:11:33</td>\n",
       "      <td>44.99</td>\n",
       "      <td>830d5b7aaa3b6f1e9ad63703bec97d23</td>\n",
       "    </tr>\n",
       "    <tr>\n",
       "      <th>115729</th>\n",
       "      <td>bfbd0f9bdef84302105ad712db648a6c</td>\n",
       "      <td>86dc2ffce2dfff336de2f386a786e574</td>\n",
       "      <td>delivered</td>\n",
       "      <td>2016-09-15 12:16:38</td>\n",
       "      <td>2016-10-04</td>\n",
       "      <td>NaN</td>\n",
       "      <td>NaN</td>\n",
       "      <td>2.83</td>\n",
       "      <td>beleza_saude</td>\n",
       "      <td>health_beauty</td>\n",
       "      <td>5a6b04657a4c5ee34285d1e4619a96b4</td>\n",
       "      <td>1</td>\n",
       "      <td>2016-10-07 18:32:28</td>\n",
       "      <td>14600</td>\n",
       "      <td>sao joaquim da barra</td>\n",
       "      <td>SP</td>\n",
       "      <td>2016-09-19 23:11:33</td>\n",
       "      <td>44.99</td>\n",
       "      <td>830d5b7aaa3b6f1e9ad63703bec97d23</td>\n",
       "    </tr>\n",
       "    <tr>\n",
       "      <th>115730</th>\n",
       "      <td>bfbd0f9bdef84302105ad712db648a6c</td>\n",
       "      <td>86dc2ffce2dfff336de2f386a786e574</td>\n",
       "      <td>delivered</td>\n",
       "      <td>2016-09-15 12:16:38</td>\n",
       "      <td>2016-10-04</td>\n",
       "      <td>NaN</td>\n",
       "      <td>NaN</td>\n",
       "      <td>2.83</td>\n",
       "      <td>beleza_saude</td>\n",
       "      <td>health_beauty</td>\n",
       "      <td>5a6b04657a4c5ee34285d1e4619a96b4</td>\n",
       "      <td>1</td>\n",
       "      <td>2016-10-07 18:32:28</td>\n",
       "      <td>14600</td>\n",
       "      <td>sao joaquim da barra</td>\n",
       "      <td>SP</td>\n",
       "      <td>2016-09-19 23:11:33</td>\n",
       "      <td>44.99</td>\n",
       "      <td>830d5b7aaa3b6f1e9ad63703bec97d23</td>\n",
       "    </tr>\n",
       "  </tbody>\n",
       "</table>\n",
       "</div>"
      ],
      "text/plain": [
       "                                order_id                       customer_id  \\\n",
       "115728  bfbd0f9bdef84302105ad712db648a6c  86dc2ffce2dfff336de2f386a786e574   \n",
       "115729  bfbd0f9bdef84302105ad712db648a6c  86dc2ffce2dfff336de2f386a786e574   \n",
       "115730  bfbd0f9bdef84302105ad712db648a6c  86dc2ffce2dfff336de2f386a786e574   \n",
       "\n",
       "       order_status order_purchase_timestamp order_estimated_delivery_date  \\\n",
       "115728    delivered      2016-09-15 12:16:38                    2016-10-04   \n",
       "115729    delivered      2016-09-15 12:16:38                    2016-10-04   \n",
       "115730    delivered      2016-09-15 12:16:38                    2016-10-04   \n",
       "\n",
       "       payment_type  payment_value  freight_value   product_por  \\\n",
       "115728          NaN            NaN           2.83  beleza_saude   \n",
       "115729          NaN            NaN           2.83  beleza_saude   \n",
       "115730          NaN            NaN           2.83  beleza_saude   \n",
       "\n",
       "          product_eng                        product_id  review_score  \\\n",
       "115728  health_beauty  5a6b04657a4c5ee34285d1e4619a96b4             1   \n",
       "115729  health_beauty  5a6b04657a4c5ee34285d1e4619a96b4             1   \n",
       "115730  health_beauty  5a6b04657a4c5ee34285d1e4619a96b4             1   \n",
       "\n",
       "               review_date  zip_code         customer_city customer_state  \\\n",
       "115728 2016-10-07 18:32:28     14600  sao joaquim da barra             SP   \n",
       "115729 2016-10-07 18:32:28     14600  sao joaquim da barra             SP   \n",
       "115730 2016-10-07 18:32:28     14600  sao joaquim da barra             SP   \n",
       "\n",
       "       shipping_limit_date  price                customer_unique_id  \n",
       "115728 2016-09-19 23:11:33  44.99  830d5b7aaa3b6f1e9ad63703bec97d23  \n",
       "115729 2016-09-19 23:11:33  44.99  830d5b7aaa3b6f1e9ad63703bec97d23  \n",
       "115730 2016-09-19 23:11:33  44.99  830d5b7aaa3b6f1e9ad63703bec97d23  "
      ]
     },
     "execution_count": 168,
     "metadata": {},
     "output_type": "execute_result"
    }
   ],
   "source": [
    "missing = order[order['payment_value'].isnull() | order['payment_type'].isnull()]\n",
    "missing"
   ]
  },
  {
   "cell_type": "code",
   "execution_count": 169,
   "metadata": {},
   "outputs": [],
   "source": [
    "ord=order.dropna(subset=['payment_value', 'payment_type','freight_value','product_id'])\n"
   ]
  },
  {
   "cell_type": "code",
   "execution_count": 170,
   "metadata": {},
   "outputs": [],
   "source": [
    "ord=ord.fillna('Unknown')"
   ]
  },
  {
   "cell_type": "code",
   "execution_count": 171,
   "metadata": {},
   "outputs": [
    {
     "data": {
      "text/plain": [
       "order_id                         0\n",
       "customer_id                      0\n",
       "order_status                     0\n",
       "order_purchase_timestamp         0\n",
       "order_estimated_delivery_date    0\n",
       "payment_type                     0\n",
       "payment_value                    0\n",
       "freight_value                    0\n",
       "product_por                      0\n",
       "product_eng                      0\n",
       "product_id                       0\n",
       "review_score                     0\n",
       "review_date                      0\n",
       "zip_code                         0\n",
       "customer_city                    0\n",
       "customer_state                   0\n",
       "shipping_limit_date              0\n",
       "price                            0\n",
       "customer_unique_id               0\n",
       "dtype: int64"
      ]
     },
     "execution_count": 171,
     "metadata": {},
     "output_type": "execute_result"
    }
   ],
   "source": [
    "ord.isna().sum()"
   ]
  },
  {
   "cell_type": "code",
   "execution_count": 172,
   "metadata": {},
   "outputs": [],
   "source": [
    "#slicing for dates considered for the business case\n",
    "#for purchase time stamp\n",
    "# Convert 'timestamp' column to datetime\n",
    "ord['order_purchase_timestamp'] = pd.to_datetime(ord['order_purchase_timestamp'])\n",
    "\n",
    "# Filter out rows with timestamps between '2016-12-31 23:59:00' and '2018-08-31 23:59:00'\n",
    "mask = (ord['order_purchase_timestamp'] > '2016-12-31 23:59:00') & (ord['order_purchase_timestamp'] < '2018-08-31 23:59:00')\n",
    "ord_ = ord.loc[mask]\n",
    "\n",
    "# Extract month and year from the remaining rows\n",
    "ord_['purchase_month'] = ord_['order_purchase_timestamp'].dt.strftime('%b')\n",
    "ord_['purchase_year'] = ord_['order_purchase_timestamp'].dt.year\n",
    "\n"
   ]
  },
  {
   "attachments": {},
   "cell_type": "markdown",
   "metadata": {},
   "source": [
    "### Question 1: What is the total revenue generated by Olist, and how has it changed over time?\n"
   ]
  },
  {
   "cell_type": "code",
   "execution_count": 173,
   "metadata": {},
   "outputs": [
    {
     "name": "stdout",
     "output_type": "stream",
     "text": [
      "The total revenue generated by Olist is 20.34M\n"
     ]
    }
   ],
   "source": [
    "revenue = ord_['payment_value'].sum()\n",
    "revenue_formatted = \"{:.2f}M\".format(revenue / 1000000)\n",
    "print(f'The total revenue generated by Olist is {revenue_formatted}')"
   ]
  },
  {
   "attachments": {},
   "cell_type": "markdown",
   "metadata": {},
   "source": [
    "How has it changed over time?"
   ]
  },
  {
   "cell_type": "code",
   "execution_count": 174,
   "metadata": {},
   "outputs": [
    {
     "data": {
      "image/png": "[encoded data removed]",
      "text/plain": [
       "<Figure size 720x288 with 1 Axes>"
      ]
     },
     "metadata": {},
     "output_type": "display_data"
    }
   ],
   "source": [
    "df = ord_.groupby(['purchase_month', 'purchase_year']).payment_value.sum().unstack().reset_index()\n",
    "sort_order = ['Jan','Feb','Mar','Apr','May','Jun','Jul','Aug','Sep','Oct','Nov','Dec']\n",
    "df.index = pd.CategoricalIndex(df['purchase_month'], categories=sort_order, ordered=True)\n",
    "df = df.sort_index()\n",
    "fig, ax = plt.subplots(figsize=(10, 4))\n",
    "ax.plot(df.index, df.iloc[:, 1:]/1000000, marker='o')\n",
    "\n",
    "# Set the y-axis tick format to millions\n",
    "fmt = ticker.StrMethodFormatter('{x:,.1f}')\n",
    "ax.yaxis.set_major_formatter(fmt)\n",
    "\n",
    "# Add the \"Revenue in millions\" label to the y-axis\n",
    "ax.set_ylabel('Revenue in millions')\n",
    "ax.set_xlabel('Months')\n",
    "ax.set_title('Monthly Revenue Trend')\n",
    "\n",
    "# Set the x-axis tick labels and rotation\n",
    "ax.set_xticks(range(len(sort_order)))\n",
    "ax.set_xticklabels(sort_order, rotation=45, ha='right')\n",
    "\n",
    "ax.legend(df.iloc[:, 1:].columns)\n",
    "\n",
    "plt.show()"
   ]
  },
  {
   "attachments": {},
   "cell_type": "markdown",
   "metadata": {},
   "source": [
    " **Discussion**: The revenue trend of the company was analyzed based on the provided dataset. The highest revenue generated for the period in review was in Nov. 2017 with a total revenue of 1.6M. However, 2018 saw an impressive and commendable increase in monthly revenue compared to 2017. Although the monthly revenue for 2018 is higher than 2017, there were inconsistencies in revenue generation on a month-on-month basis. This indicates that revenue generation in 2018 was not stable, and it would be important to monitor this trend to identify the underlying causes of the fluctuations."
   ]
  },
  {
   "attachments": {},
   "cell_type": "markdown",
   "metadata": {},
   "source": [
    "### Question 2: How many orders were placed on Olist, and how does this vary by month or season?"
   ]
  },
  {
   "cell_type": "code",
   "execution_count": 175,
   "metadata": {},
   "outputs": [
    {
     "name": "stdout",
     "output_type": "stream",
     "text": [
      "The total orders placed on Olist are 117924\n"
     ]
    }
   ],
   "source": [
    "total_orders=ord_['order_id'].count()\n",
    "print(f'The total orders placed on Olist are {total_orders}')"
   ]
  },
  {
   "attachments": {},
   "cell_type": "markdown",
   "metadata": {},
   "source": [
    "variation by month and/or season"
   ]
  },
  {
   "cell_type": "code",
   "execution_count": 176,
   "metadata": {},
   "outputs": [
    {
     "data": {
      "image/png": "[encoded data removed]",
      "text/plain": [
       "<Figure size 720x288 with 2 Axes>"
      ]
     },
     "metadata": {},
     "output_type": "display_data"
    }
   ],
   "source": [
    "#Extracting seasons\n",
    "ord_[\"order_date\"] = pd.to_datetime(ord_[\"order_purchase_timestamp\"])\n",
    "ord_[\"season\"] = pd.cut(ord_[\"order_date\"].dt.month, \n",
    "                             bins=[0, 3, 6, 9, 12], \n",
    "                             labels=[\"Q1\", \"Q2\", \"Q3\", \"Q4\"])\n",
    "\n",
    "# Group orders by month and season, and count the number of orders in each group\n",
    "orders_by_month = ord_.groupby(\"purchase_month\")[\"order_id\"].count().reset_index()\n",
    "orders_by_season = ord_.groupby(\"season\")[\"order_id\"].count().reset_index()\n",
    "\n",
    "orders_by_month.index = pd.CategoricalIndex(df['purchase_month'], categories=sort_order, ordered=True)\n",
    "orders_by_month = orders_by_month.sort_index()\n",
    "# Visualize the results using a line chart for monthly orders and a bar chart for seasonal orders\n",
    "\n",
    "fig, ax = plt.subplots(1, 2, figsize=(10, 4))\n",
    "\n",
    "ax[0].plot(orders_by_month.index, orders_by_month[\"order_id\"])\n",
    "ax[0].set_xlabel(\"Month\")\n",
    "ax[0].set_ylabel(\"Number of orders\")\n",
    "ax[0].set_title(\"Monthly orders\")\n",
    "\n",
    "ax[1].bar(orders_by_season[\"season\"], orders_by_season[\"order_id\"])\n",
    "ax[1].set_xlabel(\"Season\")\n",
    "ax[1].set_ylabel(\"Number of orders\")\n",
    "ax[1].set_title(\"Seasonal orders\")\n",
    "\n",
    "plt.tight_layout()\n",
    "plt.show()\n",
    "\n",
    "\n",
    "\n",
    "\n",
    "\n",
    "\n",
    "\n"
   ]
  },
  {
   "attachments": {},
   "cell_type": "markdown",
   "metadata": {},
   "source": [
    "**Discussion**: The plot of Seasonal orders shows that the fourth quarter had the lowest number of orders, with a significant drop observed in the months of September to December. This trend should be investigated and addressed in order to increase sales. The second quarter had the highest number of orders, while a dip in March resulted in a decrease in total orders registered for the first quarter. Overall, monitoring and analyzing monthly order trends can help the company optimize its sales strategy and improve performance."
   ]
  },
  {
   "attachments": {},
   "cell_type": "markdown",
   "metadata": {},
   "source": [
    "### Question 3: What are the most popular product categories on Olist, and how do their sales volumes compare to each other?"
   ]
  },
  {
   "cell_type": "code",
   "execution_count": 177,
   "metadata": {},
   "outputs": [
    {
     "data": {
      "image/png": "[encoded data removed]",
      "text/plain": [
       "<Figure size 720x288 with 1 Axes>"
      ]
     },
     "metadata": {},
     "output_type": "display_data"
    }
   ],
   "source": [
    "top10_products = ord_.groupby('product_eng').product_eng.count().\\\n",
    "sort_values(ascending = False)\n",
    "\n",
    "\n",
    "fig, ax = plt.subplots(figsize=(10, 4))\n",
    "top10_products.head(10).sort_values(ascending = True).plot(kind = 'barh')\n",
    "ax.set_ylabel('Product_category')\n",
    "ax.set_xlabel('count')\n",
    "ax.set_title('Top 10 Popular Product Category')\n",
    "plt.show()\n"
   ]
  },
  {
   "attachments": {},
   "cell_type": "markdown",
   "metadata": {},
   "source": [
    "The top 3 most popular products are bed_bath_table, health_beauty and sports_leisure"
   ]
  },
  {
   "attachments": {},
   "cell_type": "markdown",
   "metadata": {},
   "source": [
    "### Question 4: What is the average order value (AOV) on Olist, and how does this vary by product category or payment method?"
   ]
  },
  {
   "cell_type": "code",
   "execution_count": 178,
   "metadata": {},
   "outputs": [
    {
     "data": {
      "text/plain": [
       "172.5092518062481"
      ]
     },
     "execution_count": 178,
     "metadata": {},
     "output_type": "execute_result"
    }
   ],
   "source": [
    "revenue/total_orders"
   ]
  },
  {
   "cell_type": "code",
   "execution_count": 179,
   "metadata": {},
   "outputs": [
    {
     "name": "stdout",
     "output_type": "stream",
     "text": [
      "Average order value by product category:\n",
      "product_eng\n",
      "computers                                1542.108011\n",
      "fixed_telephony                           973.097170\n",
      "small_appliances_home_oven_and_coffee     683.057600\n",
      "agro_industry_and_commerce                652.365989\n",
      "home_appliances_2                         535.602692\n",
      "                                            ...     \n",
      "cds_dvds_musicals                          99.952500\n",
      "fashion_childrens_clothes                  98.208750\n",
      "books_technical                            95.339807\n",
      "flowers                                    76.310690\n",
      "home_comfort_2                             71.272500\n",
      "Length: 74, dtype: float64\n",
      "Average order value by payment type:\n",
      "payment_type\n",
      "boleto         208.105265\n",
      "credit_card    206.097039\n",
      "debit_card     167.379263\n",
      "voucher        108.709758\n",
      "dtype: float64\n"
     ]
    }
   ],
   "source": [
    "# Group the data by product category and calculate the AOV for each category\n",
    "aov_by_category = ord_.groupby('product_eng')['payment_value'].sum() / ord_.groupby('product_eng')['order_id'].nunique()\n",
    "\n",
    "print('Average order value by product category:')\n",
    "print(aov_by_category.sort_values(ascending=False))\n",
    "# Group the data by payment method and calculate the AOV for each method\n",
    "aov_by_payment = ord_.groupby('payment_type')['payment_value'].sum() / ord_.groupby('payment_type')['order_id'].nunique()\n",
    "\n",
    "print('Average order value by payment type:')\n",
    "print(aov_by_payment.sort_values(ascending=False))"
   ]
  },
  {
   "attachments": {},
   "cell_type": "markdown",
   "metadata": {},
   "source": [
    "**Discussion:** Based on the analysis, the average order value on Olist ranges from 0 to 652.37, with an overall average of approximately 172. The average order value varies by product category, with `computer` having the highest average order value at 1542.11 and `home_comfort_2` having the lowest average order value at 71.27. The average order value also varies by payment type, with `boleto` having the highest average order value at 207.71 and `voucher` having the lowest average order value at 112.10. These insights can help Olist to understand customer behavior and optimize their pricing and marketing strategies to increase revenue."
   ]
  },
  {
   "attachments": {},
   "cell_type": "markdown",
   "metadata": {},
   "source": [
    "### Question 5: What is the average customer rating for products sold on Olist, and how does this impact sales performance?\n"
   ]
  },
  {
   "cell_type": "code",
   "execution_count": 180,
   "metadata": {},
   "outputs": [
    {
     "data": {
      "text/html": [
       "<div>\n",
       "<style scoped>\n",
       "    .dataframe tbody tr th:only-of-type {\n",
       "        vertical-align: middle;\n",
       "    }\n",
       "\n",
       "    .dataframe tbody tr th {\n",
       "        vertical-align: top;\n",
       "    }\n",
       "\n",
       "    .dataframe thead th {\n",
       "        text-align: right;\n",
       "    }\n",
       "</style>\n",
       "<table border=\"1\" class=\"dataframe\">\n",
       "  <thead>\n",
       "    <tr style=\"text-align: right;\">\n",
       "      <th></th>\n",
       "      <th>payment_value</th>\n",
       "    </tr>\n",
       "    <tr>\n",
       "      <th>review_score</th>\n",
       "      <th></th>\n",
       "    </tr>\n",
       "  </thead>\n",
       "  <tbody>\n",
       "    <tr>\n",
       "      <th>2.0</th>\n",
       "      <td>324.51</td>\n",
       "    </tr>\n",
       "    <tr>\n",
       "      <th>3.0</th>\n",
       "      <td>12290.88</td>\n",
       "    </tr>\n",
       "    <tr>\n",
       "      <th>4.0</th>\n",
       "      <td>20329166.19</td>\n",
       "    </tr>\n",
       "    <tr>\n",
       "      <th>5.0</th>\n",
       "      <td>1199.43</td>\n",
       "    </tr>\n",
       "  </tbody>\n",
       "</table>\n",
       "</div>"
      ],
      "text/plain": [
       "              payment_value\n",
       "review_score               \n",
       "2.0                  324.51\n",
       "3.0                12290.88\n",
       "4.0             20329166.19\n",
       "5.0                 1199.43"
      ]
     },
     "execution_count": 180,
     "metadata": {},
     "output_type": "execute_result"
    }
   ],
   "source": [
    "cust_review = ord_.groupby('product_eng').agg({'review_score':'mean', 'payment_value':'sum'}).\\\n",
    "round({'review_score': 0})\n",
    "cust_review.groupby('review_score').payment_value.sum().to_frame()"
   ]
  },
  {
   "attachments": {},
   "cell_type": "markdown",
   "metadata": {},
   "source": [
    "**Discussion:** the customers of Olist rate the products sold quite high, with an average minimum rating of 2.0. Furthermore, it was observed that products with top ratings of 4.0 or higher generate the highest sales."
   ]
  },
  {
   "cell_type": "code",
   "execution_count": 181,
   "metadata": {},
   "outputs": [
    {
     "data": {
      "image/png": "[encoded data removed]",
      "text/plain": [
       "<Figure size 432x288 with 1 Axes>"
      ]
     },
     "metadata": {},
     "output_type": "display_data"
    }
   ],
   "source": [
    "# group by product_id and calculate mean review_score\n",
    "product_ratings = ord_.groupby('product_id')['review_score'].mean().round()\n",
    "\n",
    "# calculate total revenue for each rating\n",
    "rating_revenue = ord_.groupby('review_score')['payment_value'].sum()\n",
    "\n",
    "# create scatter plot\n",
    "merged_data = pd.merge(product_ratings, rating_revenue, on='review_score')\n",
    "\n",
    "plt.scatter(merged_data['review_score'], merged_data['payment_value'])\n",
    "# set xticks to be integers 1 to 5\n",
    "plt.xticks(range(1, 6))\n",
    "\n",
    "# add axis labels and title\n",
    "plt.xlabel('Average Customer Rating')\n",
    "plt.ylabel('Total Revenue')\n",
    "plt.title('Impact of Average Customer Rating on Sales')\n",
    "\n",
    "# display plot\n",
    "plt.show()"
   ]
  },
  {
   "attachments": {},
   "cell_type": "markdown",
   "metadata": {},
   "source": [
    "**Discussion:** The scatterplot shows a positive correlation between the average customer rating and total revenue, suggesting that products with higher ratings are more likely to sell well than those with lower ratings. This could be due to several factors, such as higher quality products or better customer service from the sellers. It is also possible that customers are more likely to leave positive reviews for products they are satisfied with, which can lead to higher ratings and increased sales. Overall, it is clear that customer ratings can have a significant impact on sales performance on Olist."
   ]
  },
  {
   "attachments": {},
   "cell_type": "markdown",
   "metadata": {},
   "source": [
    "### Question 6: What is the average order cancellation rate on Olist, and how does this impact seller performance?"
   ]
  },
  {
   "cell_type": "code",
   "execution_count": 182,
   "metadata": {},
   "outputs": [
    {
     "name": "stdout",
     "output_type": "stream",
     "text": [
      "The average order cancellation rate on Olist is 0.47%\n"
     ]
    }
   ],
   "source": [
    "# calculate the cancellation rate\n",
    "cancelled_orders = ord_[ord_['order_status'] == 'canceled']\n",
    "cancellation_rate = len(cancelled_orders) / len(orders)\n",
    "\n",
    "print('The average order cancellation rate on Olist is {:.2f}%'.format(cancellation_rate * 100))\n",
    "\n"
   ]
  },
  {
   "cell_type": "code",
   "execution_count": 183,
   "metadata": {},
   "outputs": [
    {
     "data": {
      "image/png": "[encoded data removed]",
      "text/plain": [
       "<Figure size 432x288 with 1 Axes>"
      ]
     },
     "metadata": {},
     "output_type": "display_data"
    }
   ],
   "source": [
    "# merge orders and sellers datasets\n",
    "ord_sellers = pd.merge(ord_, sell_rating, on='order_id')\n",
    "ord_sell = ord_sellers.drop(['order_estimated_delivery_date', 'payment_type',\n",
    "       'product_por_x', 'product_eng_x', 'product_id', 'review_score_x',\n",
    "       'review_date', 'zip_code_x', 'customer_city', 'customer_state',\n",
    "       'purchase_month', 'purchase_year', 'season'], axis=1)\n",
    "# calculate average cancellation rate per seller\n",
    "seller_cancellation_rate = ord_sell.groupby('seller_id')['order_status'].apply(lambda x: (x == 'canceled').mean())\n",
    "total_sales = ord_sell.groupby('seller_id')['payment_value'].sum()\n",
    "\n",
    "# create scatter plot\n",
    "plt.scatter(seller_cancellation_rate, total_sales, s=50, alpha=0.5)\n",
    "\n",
    "# add axis labels and title\n",
    "plt.xlabel('Average Cancellation Rate per Seller')\n",
    "plt.ylabel('Total Sales Volume')\n",
    "plt.title('Impact of Cancellation Rate on Seller Performance')\n",
    "\n",
    "# display plot\n",
    "plt.show()"
   ]
  },
  {
   "attachments": {},
   "cell_type": "markdown",
   "metadata": {},
   "source": [
    "**Discussion:** There is a negative correlation, so we can conclude that a high cancellation rate negatively impacts seller performance.The plot shows the impact of cancellation rate on seller performance. From the plot, it can be observed that sellers with lower average cancellation rates tend to have higher sales compared to those with higher cancellation rates. Specifically, sales with an average cancellation rate of less than 0.1 appear to have higher performance than those with higher cancellation rates. This suggests that maintaining a low cancellation rate is an important factor for seller success on Olist."
   ]
  },
  {
   "attachments": {},
   "cell_type": "markdown",
   "metadata": {},
   "source": [
    "### Question 7: How many sellers are active on Olist, and how does this number change over time?"
   ]
  },
  {
   "cell_type": "code",
   "execution_count": 184,
   "metadata": {},
   "outputs": [
    {
     "name": "stdout",
     "output_type": "stream",
     "text": [
      "3095\n"
     ]
    },
    {
     "data": {
      "image/png": "[encoded data removed]",
      "text/plain": [
       "<Figure size 432x288 with 1 Axes>"
      ]
     },
     "metadata": {},
     "output_type": "display_data"
    }
   ],
   "source": [
    "num_sellers = len(sellers)\n",
    "print(num_sellers)\n",
    "\n",
    "# group orders by month and count number of unique sellers\n",
    "monthly_sellers = ord_sell.groupby(pd.Grouper(key='order_date', freq='M'))['seller_id'].nunique()\n",
    "\n",
    "# plot the number of active sellers over time\n",
    "monthly_sellers.plot(kind='line', xlabel='Month', ylabel='Number of Active Sellers', title='Number of Active Sellers on Olist over Time')\n",
    "plt.show()"
   ]
  },
  {
   "attachments": {},
   "cell_type": "markdown",
   "metadata": {},
   "source": [
    "**Discussion:** The plot above shows that the number of active sellers on Olist has been increasing over time. Therefore, it can be inferred that Olist has been successful in attracting new sellers and retaining existing ones, which could be attributed to the platform's user-friendly interface, competitive commission rates, and effective marketing strategies."
   ]
  },
  {
   "attachments": {},
   "cell_type": "markdown",
   "metadata": {},
   "source": [
    "### Question 8: What are the top-selling products on Olist, and how have their sales trends changed over time?\n"
   ]
  },
  {
   "cell_type": "code",
   "execution_count": 185,
   "metadata": {},
   "outputs": [
    {
     "name": "stdout",
     "output_type": "stream",
     "text": [
      "product_eng\n",
      "bed_bath_table           1741913.82\n",
      "health_beauty            1657014.14\n",
      "computers_accessories    1597177.96\n",
      "furniture_decor          1432399.73\n",
      "watches_gifts            1427085.44\n",
      "sports_leisure           1396343.00\n",
      "housewares               1095163.57\n",
      "auto                      852378.98\n",
      "garden_tools              839256.40\n",
      "cool_stuff                780598.56\n",
      "Name: payment_value, dtype: float64\n"
     ]
    },
    {
     "data": {
      "image/png": "[encoded data removed]",
      "text/plain": [
       "<Figure size 432x288 with 1 Axes>"
      ]
     },
     "metadata": {},
     "output_type": "display_data"
    }
   ],
   "source": [
    "# define the order of months\n",
    "month_order = ['Jan', 'Feb', 'Mar', 'Apr', 'May', 'Jun', 'Jul', 'Aug', 'Sep', 'Oct', 'Nov', 'Dec']\n",
    "\n",
    "# group orders by product and calculate total sales\n",
    "product_sales = ord_.groupby('product_eng')['payment_value'].sum()\n",
    "\n",
    "# sort products based on total sales and select top-selling products\n",
    "top_products = product_sales.sort_values(ascending=False)[:10]\n",
    "print(top_products)\n",
    "# plot sales trends of top-selling products\n",
    "for product in top_products.index:\n",
    "    product_orders = ord_[ord_['product_eng'] == product]\n",
    "    sales_by_month = product_orders.groupby(['purchase_month'])['payment_value'].sum()\n",
    "\n",
    "    # convert month names to a categorical data type with the specified order\n",
    "    sales_by_month.index = pd.Categorical(sales_by_month.index, categories=month_order, ordered=True)\n",
    "    sales_by_month = sales_by_month.sort_index()\n",
    "\n",
    "    plt.plot(sales_by_month.index, sales_by_month.values, label=product)\n",
    "\n",
    "# add legend, axis labels, and title\n",
    "plt.legend()\n",
    "# move legend outside the graph\n",
    "plt.legend(loc='center left', bbox_to_anchor=(1.0, 0.5))\n",
    "plt.xlabel('Month')\n",
    "plt.xticks(rotation=45, ha='right')\n",
    "plt.ylabel('Total Sales')\n",
    "plt.title('Sales Trends of Top-Selling Products')\n",
    "\n",
    "# display plot\n",
    "plt.show()\n"
   ]
  },
  {
   "attachments": {},
   "cell_type": "markdown",
   "metadata": {},
   "source": [
    "**Discussion:** `bed_bath_table` is the top-selling product overall on Olist. The plot shows that `computer_accessories` and `health_beauty` had the highest revenues generated in the months of February and August, respectively. This could be due to several factors such as promotions, customer preferences, among other things. On the other hand, the least selling products were `auto` and `housewares` between the months of September and October."
   ]
  },
  {
   "attachments": {},
   "cell_type": "markdown",
   "metadata": {},
   "source": [
    "### Qyestion 9: Which payment methods are most commonly used by Olist customers, and how does this vary by product category or geographic region?"
   ]
  },
  {
   "cell_type": "code",
   "execution_count": 186,
   "metadata": {},
   "outputs": [
    {
     "data": {
      "image/png": "[encoded data removed]",
      "text/plain": [
       "<Figure size 432x288 with 1 Axes>"
      ]
     },
     "metadata": {},
     "output_type": "display_data"
    }
   ],
   "source": [
    "# group orders by payment method and calculate count\n",
    "ords = ord_.drop(ord_[ord_['payment_type'] == 'not_defined'].index)\n",
    "\n",
    "payment_counts = ords.groupby('payment_type')['order_id'].count()\n",
    "\n",
    "# define custom colors\n",
    "colors = ['#66b3ff', '#ff9999', '#99ff99', '#ffcc99', '#ffb3e6']\n",
    "\n",
    "# create a figure with a pop-out effect\n",
    "fig, ax = plt.subplots()\n",
    "explode = [0.05, 0, 0, 0]\n",
    "ax.pie(payment_counts.values, labels=payment_counts.index.to_list(), explode=explode, colors=colors, shadow=True, autopct='%1.1f%%', textprops={'fontsize': 12})\n",
    "ax.axis('equal')\n",
    "\n",
    "# add a title\n",
    "plt.title('Payment Methods Used by Olist Customers', fontsize=18)\n",
    "\n",
    "# show the chart\n",
    "plt.show()\n"
   ]
  },
  {
   "cell_type": "code",
   "execution_count": 187,
   "metadata": {},
   "outputs": [
    {
     "data": {
      "image/png": "[encoded data removed]",
      "text/plain": [
       "<Figure size 864x432 with 1 Axes>"
      ]
     },
     "metadata": {},
     "output_type": "display_data"
    }
   ],
   "source": [
    "# create pivot table of payment types by state\n",
    "payment_by_state = pd.pivot_table(ords, values='order_id', index='payment_type', columns='customer_state', aggfunc='count')\n",
    "\n",
    "# plot pivot table as stacked bar chart\n",
    "payment_by_state.plot(kind='bar', stacked=True, figsize=(12, 6), color=['#89CFF0', '#F4D35E', '#ED553B', '#20639B', '#FFC300', '#3CAEA3'], edgecolor='black')\n",
    "\n",
    "# add labels and title\n",
    "plt.xlabel('Payment Type')\n",
    "plt.ylabel('Count')\n",
    "plt.title('Payment Methods by Geographic Region')\n",
    "\n",
    "# move legend outside the graph\n",
    "plt.legend(loc='center left', bbox_to_anchor=(1.0, 0.5))\n",
    "\n",
    "# add shadow and make the chart pop out\n",
    "plt.box(False)\n",
    "plt.gca().spines['right'].set_visible(False)\n",
    "plt.gca().spines['top'].set_visible(False)\n",
    "plt.gca().spines['left'].set_linewidth(0.5)\n",
    "plt.gca().spines['bottom'].set_linewidth(0.5)\n",
    "plt.gca().spines['left'].set_position(('outward', 10))\n",
    "plt.gca().spines['bottom'].set_position(('outward', 10))\n",
    "plt.gca().patch.set(hatch='/', edgecolor='black', linewidth=0.5, alpha=0.1)\n",
    "\n",
    "# display plot\n",
    "plt.show()\n"
   ]
  },
  {
   "attachments": {},
   "cell_type": "markdown",
   "metadata": {},
   "source": [
    "**Discussion:** Based on the data, it appears that `credit_card` is the most commonly used payment method by Olist customers, accounting for 73.7% of all payments. `boleto` is the second most popular method with 19.5%, followed by `voucher` at 5.4%, and `debit_card` with only 1.4%"
   ]
  },
  {
   "attachments": {},
   "cell_type": "markdown",
   "metadata": {},
   "source": [
    "### Question 10: How does Olist's marketing spend and channel mix impact sales and customer acquisition costs, and how can the company optimize its marketing strategy to increase ROI?\n"
   ]
  },
  {
   "attachments": {},
   "cell_type": "markdown",
   "metadata": {},
   "source": [
    "We can analyze the relationship between Olist's marketing spend and channel mix with sales and customer acquisition costs. This can be done by looking at the data on the amount spent on marketing across different channels such as social media, email, and search engine marketing, and then comparing it with the sales generated from each channel and the cost of acquiring new customers from each channel.\n",
    "\n",
    "We can then use this data to identify which channels are the most effective in terms of generating sales and acquiring new customers, and allocate more resources towards these channels. This can be done through various tactics such as increasing spend on high-performing channels, optimizing ad targeting and messaging, and experimenting with new channels and campaigns.\n",
    "\n",
    "To further increase ROI, Olist can also focus on improving customer retention and increasing customer lifetime value through tactics such as personalized marketing, loyalty programs, and upselling and cross-selling.\n",
    "\n",
    "**Without the marketing data, we are unable to answer the question**"
   ]
  },
  {
   "attachments": {},
   "cell_type": "markdown",
   "metadata": {},
   "source": [
    "### Question 11: Which product categories have the highest profit margins on Olist, and how can the company increase profitability across different categories?"
   ]
  },
  {
   "cell_type": "code",
   "execution_count": 218,
   "metadata": {},
   "outputs": [
    {
     "data": {
      "text/html": [
       "<div>\n",
       "<style scoped>\n",
       "    .dataframe tbody tr th:only-of-type {\n",
       "        vertical-align: middle;\n",
       "    }\n",
       "\n",
       "    .dataframe tbody tr th {\n",
       "        vertical-align: top;\n",
       "    }\n",
       "\n",
       "    .dataframe thead th {\n",
       "        text-align: right;\n",
       "    }\n",
       "</style>\n",
       "<table border=\"1\" class=\"dataframe\">\n",
       "  <thead>\n",
       "    <tr style=\"text-align: right;\">\n",
       "      <th></th>\n",
       "      <th>payment_value</th>\n",
       "      <th>cost_of_goods_sold</th>\n",
       "      <th>profit_margin</th>\n",
       "      <th>profit_margin_%</th>\n",
       "    </tr>\n",
       "    <tr>\n",
       "      <th>product_eng</th>\n",
       "      <th></th>\n",
       "      <th></th>\n",
       "      <th></th>\n",
       "      <th></th>\n",
       "    </tr>\n",
       "  </thead>\n",
       "  <tbody>\n",
       "    <tr>\n",
       "      <th>fixed_telephony</th>\n",
       "      <td>206296.60</td>\n",
       "      <td>65751.75</td>\n",
       "      <td>140544.85</td>\n",
       "      <td>68.1</td>\n",
       "    </tr>\n",
       "    <tr>\n",
       "      <th>drinks</th>\n",
       "      <td>71926.13</td>\n",
       "      <td>28846.34</td>\n",
       "      <td>43079.79</td>\n",
       "      <td>59.9</td>\n",
       "    </tr>\n",
       "    <tr>\n",
       "      <th>signaling_and_security</th>\n",
       "      <td>68488.05</td>\n",
       "      <td>28120.83</td>\n",
       "      <td>40367.22</td>\n",
       "      <td>58.9</td>\n",
       "    </tr>\n",
       "    <tr>\n",
       "      <th>diapers_and_hygiene</th>\n",
       "      <td>4070.26</td>\n",
       "      <td>1990.28</td>\n",
       "      <td>2079.98</td>\n",
       "      <td>51.1</td>\n",
       "    </tr>\n",
       "    <tr>\n",
       "      <th>office_furniture</th>\n",
       "      <td>650428.95</td>\n",
       "      <td>357584.07</td>\n",
       "      <td>292844.88</td>\n",
       "      <td>45.0</td>\n",
       "    </tr>\n",
       "    <tr>\n",
       "      <th>christmas_supplies</th>\n",
       "      <td>18994.77</td>\n",
       "      <td>12079.84</td>\n",
       "      <td>6914.93</td>\n",
       "      <td>36.4</td>\n",
       "    </tr>\n",
       "    <tr>\n",
       "      <th>furniture_decor</th>\n",
       "      <td>1432399.73</td>\n",
       "      <td>947259.75</td>\n",
       "      <td>485139.98</td>\n",
       "      <td>33.9</td>\n",
       "    </tr>\n",
       "    <tr>\n",
       "      <th>fashio_female_clothing</th>\n",
       "      <td>5150.44</td>\n",
       "      <td>3466.21</td>\n",
       "      <td>1684.23</td>\n",
       "      <td>32.7</td>\n",
       "    </tr>\n",
       "    <tr>\n",
       "      <th>furniture_living_room</th>\n",
       "      <td>136853.98</td>\n",
       "      <td>92597.42</td>\n",
       "      <td>44256.56</td>\n",
       "      <td>32.3</td>\n",
       "    </tr>\n",
       "    <tr>\n",
       "      <th>construction_tools_lights</th>\n",
       "      <td>72967.06</td>\n",
       "      <td>49728.76</td>\n",
       "      <td>23238.30</td>\n",
       "      <td>31.8</td>\n",
       "    </tr>\n",
       "  </tbody>\n",
       "</table>\n",
       "</div>"
      ],
      "text/plain": [
       "                           payment_value  cost_of_goods_sold  profit_margin  \\\n",
       "product_eng                                                                   \n",
       "fixed_telephony                206296.60            65751.75      140544.85   \n",
       "drinks                          71926.13            28846.34       43079.79   \n",
       "signaling_and_security          68488.05            28120.83       40367.22   \n",
       "diapers_and_hygiene              4070.26             1990.28        2079.98   \n",
       "office_furniture               650428.95           357584.07      292844.88   \n",
       "christmas_supplies              18994.77            12079.84        6914.93   \n",
       "furniture_decor               1432399.73           947259.75      485139.98   \n",
       "fashio_female_clothing           5150.44             3466.21        1684.23   \n",
       "furniture_living_room          136853.98            92597.42       44256.56   \n",
       "construction_tools_lights       72967.06            49728.76       23238.30   \n",
       "\n",
       "                           profit_margin_%  \n",
       "product_eng                                 \n",
       "fixed_telephony                       68.1  \n",
       "drinks                                59.9  \n",
       "signaling_and_security                58.9  \n",
       "diapers_and_hygiene                   51.1  \n",
       "office_furniture                      45.0  \n",
       "christmas_supplies                    36.4  \n",
       "furniture_decor                       33.9  \n",
       "fashio_female_clothing                32.7  \n",
       "furniture_living_room                 32.3  \n",
       "construction_tools_lights             31.8  "
      ]
     },
     "execution_count": 218,
     "metadata": {},
     "output_type": "execute_result"
    }
   ],
   "source": [
    "# calculate cost of goods sold for each order\n",
    "ord_['cost_of_goods_sold'] = ord_['price'] + ord_['freight_value']\n",
    "\n",
    "# group orders by product category and calculate total revenue and cost of goods sold\n",
    "category_profit = ord_.groupby('product_eng')['payment_value', 'cost_of_goods_sold'].sum()\n",
    "\n",
    "# calculate profit margin for each category\n",
    "category_profit['profit_margin'] = (category_profit['payment_value'] - category_profit['cost_of_goods_sold']) \n",
    "category_profit['profit_margin_%']=((category_profit['profit_margin']/ category_profit['payment_value'])*100).round(1)\n",
    "# sort categories based on profit margin and select top categories\n",
    "top_categories = category_profit.sort_values('profit_margin_%', ascending=False).head(10)\n",
    "top_categories\n",
    "least_categories = category_profit.sort_values('profit_margin_%', ascending=False).tail(10)\n",
    "top_categories"
   ]
  },
  {
   "cell_type": "code",
   "execution_count": 217,
   "metadata": {},
   "outputs": [
    {
     "data": {
      "text/html": [
       "<div>\n",
       "<style scoped>\n",
       "    .dataframe tbody tr th:only-of-type {\n",
       "        vertical-align: middle;\n",
       "    }\n",
       "\n",
       "    .dataframe tbody tr th {\n",
       "        vertical-align: top;\n",
       "    }\n",
       "\n",
       "    .dataframe thead th {\n",
       "        text-align: right;\n",
       "    }\n",
       "</style>\n",
       "<table border=\"1\" class=\"dataframe\">\n",
       "  <thead>\n",
       "    <tr style=\"text-align: right;\">\n",
       "      <th></th>\n",
       "      <th>payment_value</th>\n",
       "      <th>cost_of_goods_sold</th>\n",
       "      <th>profit_margin</th>\n",
       "      <th>profit_margin_%</th>\n",
       "    </tr>\n",
       "    <tr>\n",
       "      <th>product_eng</th>\n",
       "      <th></th>\n",
       "      <th></th>\n",
       "      <th></th>\n",
       "      <th></th>\n",
       "    </tr>\n",
       "  </thead>\n",
       "  <tbody>\n",
       "    <tr>\n",
       "      <th>fashion_underwear_beach</th>\n",
       "      <td>12714.54</td>\n",
       "      <td>12419.06</td>\n",
       "      <td>295.48</td>\n",
       "      <td>2.3</td>\n",
       "    </tr>\n",
       "    <tr>\n",
       "      <th>portable kitchen_and_food_preparators</th>\n",
       "      <td>4335.65</td>\n",
       "      <td>4278.29</td>\n",
       "      <td>57.36</td>\n",
       "      <td>1.3</td>\n",
       "    </tr>\n",
       "    <tr>\n",
       "      <th>musical_instruments</th>\n",
       "      <td>233201.70</td>\n",
       "      <td>230579.09</td>\n",
       "      <td>2622.61</td>\n",
       "      <td>1.1</td>\n",
       "    </tr>\n",
       "    <tr>\n",
       "      <th>dvds_blu_ray</th>\n",
       "      <td>7935.28</td>\n",
       "      <td>7889.99</td>\n",
       "      <td>45.29</td>\n",
       "      <td>0.6</td>\n",
       "    </tr>\n",
       "    <tr>\n",
       "      <th>security_and_services</th>\n",
       "      <td>324.51</td>\n",
       "      <td>324.51</td>\n",
       "      <td>0.00</td>\n",
       "      <td>0.0</td>\n",
       "    </tr>\n",
       "    <tr>\n",
       "      <th>music</th>\n",
       "      <td>6901.43</td>\n",
       "      <td>6973.59</td>\n",
       "      <td>-72.16</td>\n",
       "      <td>-1.0</td>\n",
       "    </tr>\n",
       "    <tr>\n",
       "      <th>small_appliances_home_oven_and_coffee</th>\n",
       "      <td>51229.32</td>\n",
       "      <td>51830.37</td>\n",
       "      <td>-601.05</td>\n",
       "      <td>-1.2</td>\n",
       "    </tr>\n",
       "    <tr>\n",
       "      <th>home_appliances</th>\n",
       "      <td>99300.25</td>\n",
       "      <td>101179.43</td>\n",
       "      <td>-1879.18</td>\n",
       "      <td>-1.9</td>\n",
       "    </tr>\n",
       "    <tr>\n",
       "      <th>home_appliances_2</th>\n",
       "      <td>125331.03</td>\n",
       "      <td>136410.15</td>\n",
       "      <td>-11079.12</td>\n",
       "      <td>-8.8</td>\n",
       "    </tr>\n",
       "    <tr>\n",
       "      <th>furniture_mattress_and_upholstery</th>\n",
       "      <td>5998.54</td>\n",
       "      <td>6548.53</td>\n",
       "      <td>-549.99</td>\n",
       "      <td>-9.2</td>\n",
       "    </tr>\n",
       "  </tbody>\n",
       "</table>\n",
       "</div>"
      ],
      "text/plain": [
       "                                       payment_value  cost_of_goods_sold  \\\n",
       "product_eng                                                                \n",
       "fashion_underwear_beach                     12714.54            12419.06   \n",
       "portable kitchen_and_food_preparators        4335.65             4278.29   \n",
       "musical_instruments                        233201.70           230579.09   \n",
       "dvds_blu_ray                                 7935.28             7889.99   \n",
       "security_and_services                         324.51              324.51   \n",
       "music                                        6901.43             6973.59   \n",
       "small_appliances_home_oven_and_coffee       51229.32            51830.37   \n",
       "home_appliances                             99300.25           101179.43   \n",
       "home_appliances_2                          125331.03           136410.15   \n",
       "furniture_mattress_and_upholstery            5998.54             6548.53   \n",
       "\n",
       "                                       profit_margin  profit_margin_%  \n",
       "product_eng                                                            \n",
       "fashion_underwear_beach                       295.48              2.3  \n",
       "portable kitchen_and_food_preparators          57.36              1.3  \n",
       "musical_instruments                          2622.61              1.1  \n",
       "dvds_blu_ray                                   45.29              0.6  \n",
       "security_and_services                           0.00              0.0  \n",
       "music                                         -72.16             -1.0  \n",
       "small_appliances_home_oven_and_coffee        -601.05             -1.2  \n",
       "home_appliances                             -1879.18             -1.9  \n",
       "home_appliances_2                          -11079.12             -8.8  \n",
       "furniture_mattress_and_upholstery            -549.99             -9.2  "
      ]
     },
     "execution_count": 217,
     "metadata": {},
     "output_type": "execute_result"
    }
   ],
   "source": [
    "least_categories"
   ]
  },
  {
   "attachments": {},
   "cell_type": "markdown",
   "metadata": {},
   "source": [
    "**Discussion:** Based on the analysis, it appears that `fixed_telephony` and `drinks` have the highest profit margins on Olist, with `fixed_telephony` having a margin of around 68% and `drinks` having a margin of 59.9%. On the other hand, the categories with the least profit margins are `home_appliances_2` with a margin of -8.8% and `furniture_mattress_and_upholstery` with a margin of -9.2%.\n",
    "\n",
    "To increase profitability across different categories, Olist could consider the following strategies:\n",
    "\n",
    "1. Adjust pricing: If some categories have lower profit margins, Olist could consider adjusting the pricing of these products to increase profitability.\n",
    "\n",
    "2. Reduce costs: Olist could look for ways to reduce costs associated with certain categories, such as negotiating better deals with suppliers or optimizing shipping processes.\n",
    "\n",
    "3. Promote high-margin products: By promoting products with high profit margins, Olist can increase their overall profitability. This could be done through targeted marketing campaigns or highlighting these products on the Olist platform.\n",
    "\n",
    "4. Expand product offerings: Olist could consider expanding their product offerings in categories with high profit margins to further increase profitability.\n",
    "\n",
    "5. Improve operational efficiency: By streamlining processes and improving operational efficiency, Olist can reduce costs and increase profitability across all categories. This could involve investing in technology or improving logistics and supply chain management."
   ]
  },
  {
   "attachments": {},
   "cell_type": "markdown",
   "metadata": {},
   "source": [
    "### Question 12: Geolocation having high customer density. Calculate customer retention rate according to geolocations"
   ]
  },
  {
   "cell_type": "code",
   "execution_count": 202,
   "metadata": {},
   "outputs": [
    {
     "data": {
      "image/png": "[encoded data removed]",
      "text/plain": [
       "<Figure size 432x288 with 1 Axes>"
      ]
     },
     "metadata": {},
     "output_type": "display_data"
    }
   ],
   "source": [
    "cust_dis = cust.groupby('customer_state').customer_state.count().to_frame()\n",
    "cust_dis.rename(columns = {'customer_state':'count'}, inplace = True)\n",
    "cust_dis10 = cust_dis.reset_index().sort_values(by = 'count', ascending = False).head(10)\n",
    "cust_dis10.sort_values(by = 'count', ascending = True).plot(kind = 'barh', x = 'customer_state', y = 'count')\n",
    "plt.show()"
   ]
  },
  {
   "attachments": {},
   "cell_type": "markdown",
   "metadata": {},
   "source": [
    "**Discussion:** From the above chart, it can be seen that the state SP has the highest customer density with over 40,000 of the company coming from that state. Followed by RJ and MG\n",
    "\n"
   ]
  }
 ],
 "metadata": {
  "kernelspec": {
   "display_name": "base",
   "language": "python",
   "name": "python3"
  },
  "language_info": {
   "codemirror_mode": {
    "name": "ipython",
    "version": 3
   },
   "file_extension": ".py",
   "mimetype": "text/x-python",
   "name": "python",
   "nbconvert_exporter": "python",
   "pygments_lexer": "ipython3",
   "version": "3.9.7"
  },
  "orig_nbformat": 4
 },
 "nbformat": 4,
 "nbformat_minor": 2
}
